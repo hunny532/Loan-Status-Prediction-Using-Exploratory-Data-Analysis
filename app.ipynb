{
 "cells": [
  {
   "cell_type": "code",
   "execution_count": null,
   "metadata": {},
   "outputs": [],
   "source": [
    "@app.route('/predict',methods['Post'])\n",
    "def predict():\n",
    "    input_features=[float(x)for x in request.form.values()]\n",
    "    features_value=[np.array(input_features)]\n",
    "    \n",
    "    features_name=['current loan Amount','Term','credit score','Annual Income','Years in current job','credit Age','credit problems']\n",
    "    df=pd.DataFrame(features_value,columns_features_name)\n",
    "    output=model.predict(df)\n",
    "    if output==1;\n",
    "    return render_template('FullyPaid.html')\n",
    "else:\n",
    "    return render_template('chargedoff.html')"
   ]
  }
 ],
 "metadata": {
  "kernelspec": {
   "display_name": "Python 3",
   "language": "python",
   "name": "python3"
  },
  "language_info": {
   "codemirror_mode": {
    "name": "ipython",
    "version": 3
   },
   "file_extension": ".py",
   "mimetype": "text/x-python",
   "name": "python",
   "nbconvert_exporter": "python",
   "pygments_lexer": "ipython3",
   "version": "3.8.5"
  }
 },
 "nbformat": 4,
 "nbformat_minor": 4
}
